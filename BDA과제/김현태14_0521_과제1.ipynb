{
 "cells": [
  {
   "cell_type": "markdown",
   "id": "3e65a1df",
   "metadata": {},
   "source": [
    "# pd.date_range()\n",
    "- 날짜를 일일히 입력할 필요 없이 시작일과 종료일 또는 시작일과 기간을 입력하면 범위 내의 인덱스를 생성해준다.\n",
    "- pd.date_range(시작일,종료일)\n",
    "- pd.date_range(시작일,기간)\n",
    "- freq 인수를 사용하면 특정한 날짜만 생성하도록 할 수 있다.\n",
    "- s(초), T(분), H(시간), D(일), B(주말이 아닌 평일), W(주), W-MON(주(월요일)), M(각 달의 마지막 날), BM(주말이 아닌 평일 중에서 각 달의 첫날), WOM-2THU(각 달의 두번째 목요일), Q-JAN(각 분기의 첫달의 마지막 날), Q-DEC(각 분기의 마지막 달의 마지막 날)"
   ]
  },
  {
   "cell_type": "code",
   "execution_count": 21,
   "id": "ddebc30e",
   "metadata": {},
   "outputs": [],
   "source": [
    "import pandas as pd\n",
    "import numpy as np\n",
    "import datetime"
   ]
  },
  {
   "cell_type": "code",
   "execution_count": 22,
   "id": "c4128f8e",
   "metadata": {},
   "outputs": [
    {
     "data": {
      "text/plain": [
       "DatetimeIndex(['2023-01-01', '2023-01-02', '2023-01-03', '2023-01-04',\n",
       "               '2023-01-05', '2023-01-06', '2023-01-07', '2023-01-08',\n",
       "               '2023-01-09', '2023-01-10', '2023-01-11', '2023-01-12',\n",
       "               '2023-01-13', '2023-01-14', '2023-01-15', '2023-01-16',\n",
       "               '2023-01-17', '2023-01-18', '2023-01-19', '2023-01-20',\n",
       "               '2023-01-21', '2023-01-22', '2023-01-23', '2023-01-24',\n",
       "               '2023-01-25', '2023-01-26', '2023-01-27', '2023-01-28',\n",
       "               '2023-01-29', '2023-01-30', '2023-01-31'],\n",
       "              dtype='datetime64[ns]', freq='D')"
      ]
     },
     "execution_count": 22,
     "metadata": {},
     "output_type": "execute_result"
    }
   ],
   "source": [
    "pd.date_range('2023-01-01','2023-01-31')\n",
    "#freq를 설정 안하면 하루 단위로 형성된다."
   ]
  },
  {
   "cell_type": "code",
   "execution_count": 23,
   "id": "93580f2d",
   "metadata": {},
   "outputs": [
    {
     "data": {
      "text/plain": [
       "DatetimeIndex(['2023-01-01', '2023-01-02', '2023-01-03', '2023-01-04',\n",
       "               '2023-01-05', '2023-01-06', '2023-01-07', '2023-01-08',\n",
       "               '2023-01-09', '2023-01-10', '2023-01-11', '2023-01-12',\n",
       "               '2023-01-13', '2023-01-14', '2023-01-15', '2023-01-16',\n",
       "               '2023-01-17', '2023-01-18', '2023-01-19', '2023-01-20',\n",
       "               '2023-01-21', '2023-01-22', '2023-01-23', '2023-01-24',\n",
       "               '2023-01-25', '2023-01-26', '2023-01-27', '2023-01-28',\n",
       "               '2023-01-29', '2023-01-30', '2023-01-31', '2023-02-01',\n",
       "               '2023-02-02', '2023-02-03', '2023-02-04', '2023-02-05',\n",
       "               '2023-02-06', '2023-02-07', '2023-02-08', '2023-02-09',\n",
       "               '2023-02-10', '2023-02-11', '2023-02-12', '2023-02-13',\n",
       "               '2023-02-14', '2023-02-15', '2023-02-16', '2023-02-17',\n",
       "               '2023-02-18', '2023-02-19'],\n",
       "              dtype='datetime64[ns]', freq='D')"
      ]
     },
     "execution_count": 23,
     "metadata": {},
     "output_type": "execute_result"
    }
   ],
   "source": [
    "pd.date_range(start = '2023-01-01', periods = 50)\n",
    "# 하루 단위로 2023-01-01이후의 50일 까지 생성"
   ]
  },
  {
   "cell_type": "code",
   "execution_count": 24,
   "id": "ef3c3666",
   "metadata": {},
   "outputs": [
    {
     "data": {
      "text/plain": [
       "DatetimeIndex(['2023-01-01 00:00:00', '2023-01-01 01:00:00',\n",
       "               '2023-01-01 02:00:00', '2023-01-01 03:00:00',\n",
       "               '2023-01-01 04:00:00', '2023-01-01 05:00:00',\n",
       "               '2023-01-01 06:00:00', '2023-01-01 07:00:00',\n",
       "               '2023-01-01 08:00:00', '2023-01-01 09:00:00',\n",
       "               '2023-01-01 10:00:00', '2023-01-01 11:00:00',\n",
       "               '2023-01-01 12:00:00', '2023-01-01 13:00:00',\n",
       "               '2023-01-01 14:00:00', '2023-01-01 15:00:00',\n",
       "               '2023-01-01 16:00:00', '2023-01-01 17:00:00',\n",
       "               '2023-01-01 18:00:00', '2023-01-01 19:00:00',\n",
       "               '2023-01-01 20:00:00', '2023-01-01 21:00:00',\n",
       "               '2023-01-01 22:00:00', '2023-01-01 23:00:00',\n",
       "               '2023-01-02 00:00:00'],\n",
       "              dtype='datetime64[ns]', freq='H')"
      ]
     },
     "execution_count": 24,
     "metadata": {},
     "output_type": "execute_result"
    }
   ],
   "source": [
    "pd.date_range('2023-01-01','2023-01-02', freq = 'H')\n",
    "# freq를 통해 원하는 단위로 날짜 생성 가능하다."
   ]
  },
  {
   "cell_type": "code",
   "execution_count": 25,
   "id": "5a9c3ed5",
   "metadata": {},
   "outputs": [
    {
     "data": {
      "text/plain": [
       "DatetimeIndex(['2023-01-31', '2023-02-28', '2023-03-31', '2023-04-28',\n",
       "               '2023-05-31', '2023-06-30', '2023-07-31', '2023-08-31',\n",
       "               '2023-09-29', '2023-10-31', '2023-11-30', '2023-12-29',\n",
       "               '2024-01-31', '2024-02-29', '2024-03-29', '2024-04-30',\n",
       "               '2024-05-31', '2024-06-28', '2024-07-31', '2024-08-30',\n",
       "               '2024-09-30', '2024-10-31', '2024-11-29', '2024-12-31',\n",
       "               '2025-01-31', '2025-02-28', '2025-03-31', '2025-04-30',\n",
       "               '2025-05-30', '2025-06-30'],\n",
       "              dtype='datetime64[ns]', freq='BM')"
      ]
     },
     "execution_count": 25,
     "metadata": {},
     "output_type": "execute_result"
    }
   ],
   "source": [
    "pd.date_range('2023-01-01',periods = 30, freq = 'BM')\n",
    "#월의 공휴일이 아닌 마지막 날짜만 생성"
   ]
  },
  {
   "cell_type": "markdown",
   "id": "176500f4",
   "metadata": {},
   "source": [
    "# shift\n",
    "- 인덱스는 그대로 두고 데이터를 이동시킬 수 있다."
   ]
  },
  {
   "cell_type": "code",
   "execution_count": 26,
   "id": "bffb2ade",
   "metadata": {},
   "outputs": [
    {
     "data": {
      "text/plain": [
       "2023-01-31    1.764052\n",
       "2023-02-28    0.400157\n",
       "2023-03-31    0.978738\n",
       "2023-04-30    2.240893\n",
       "2023-05-31    1.867558\n",
       "Freq: M, dtype: float64"
      ]
     },
     "execution_count": 26,
     "metadata": {},
     "output_type": "execute_result"
    }
   ],
   "source": [
    "np.random.seed(0)\n",
    "ts = pd.Series(np.random.randn(5), index=pd.date_range(\n",
    "    \"2023-1-1\", periods=5, freq=\"M\"))\n",
    "ts"
   ]
  },
  {
   "cell_type": "code",
   "execution_count": 27,
   "id": "bd7838f1",
   "metadata": {},
   "outputs": [
    {
     "data": {
      "text/plain": [
       "2023-01-31         NaN\n",
       "2023-02-28    1.764052\n",
       "2023-03-31    0.400157\n",
       "2023-04-30    0.978738\n",
       "2023-05-31    2.240893\n",
       "Freq: M, dtype: float64"
      ]
     },
     "execution_count": 27,
     "metadata": {},
     "output_type": "execute_result"
    }
   ],
   "source": [
    "ts.shift(1) #한칸씩 뒤로 이동"
   ]
  },
  {
   "cell_type": "code",
   "execution_count": 28,
   "id": "a2006934",
   "metadata": {},
   "outputs": [
    {
     "data": {
      "text/plain": [
       "2023-01-31    0.400157\n",
       "2023-02-28    0.978738\n",
       "2023-03-31    2.240893\n",
       "2023-04-30    1.867558\n",
       "2023-05-31         NaN\n",
       "Freq: M, dtype: float64"
      ]
     },
     "execution_count": 28,
     "metadata": {},
     "output_type": "execute_result"
    }
   ],
   "source": [
    "ts.shift(-1) #한칸씩 앞으로 이동"
   ]
  },
  {
   "cell_type": "code",
   "execution_count": 29,
   "id": "af8ff81e",
   "metadata": {},
   "outputs": [
    {
     "data": {
      "text/plain": [
       "2023-02-28    1.764052\n",
       "2023-03-31    0.400157\n",
       "2023-04-30    0.978738\n",
       "2023-05-31    2.240893\n",
       "2023-06-30    1.867558\n",
       "Freq: M, dtype: float64"
      ]
     },
     "execution_count": 29,
     "metadata": {},
     "output_type": "execute_result"
    }
   ],
   "source": [
    "ts.shift(1, freq=\"M\") #날짜를 한달씩 뒤로 바꿈"
   ]
  },
  {
   "cell_type": "code",
   "execution_count": 30,
   "id": "2db47606",
   "metadata": {},
   "outputs": [
    {
     "data": {
      "text/plain": [
       "2023-02-05    1.764052\n",
       "2023-03-05    0.400157\n",
       "2023-04-02    0.978738\n",
       "2023-05-07    2.240893\n",
       "2023-06-04    1.867558\n",
       "dtype: float64"
      ]
     },
     "execution_count": 30,
     "metadata": {},
     "output_type": "execute_result"
    }
   ],
   "source": [
    "ts.shift(1, freq=\"W\") #날짜를 한주씩 뒤로 미룸"
   ]
  },
  {
   "cell_type": "markdown",
   "id": "068519f4",
   "metadata": {},
   "source": [
    "# resample\n",
    "- 시간 간격을 재조정하는 리샘플링이 가능하다. \n",
    "- 구간이 작아지면 데이터 양이 증가한다고 해서 업-샘플링이라 한다.\n",
    "- 구간이 커지면 데이터 양이 감소한다고 해어 다운-샘플링이라고 한다."
   ]
  },
  {
   "cell_type": "code",
   "execution_count": 31,
   "id": "9fc89277",
   "metadata": {},
   "outputs": [
    {
     "data": {
      "text/plain": [
       "2018-03-22    1.895889\n",
       "2018-03-23    1.178780\n",
       "2018-03-24   -0.179925\n",
       "2018-03-25   -1.070753\n",
       "2018-03-26    1.054452\n",
       "2018-03-27   -0.403177\n",
       "2018-03-28    1.222445\n",
       "2018-03-29    0.208275\n",
       "2018-03-30    0.976639\n",
       "2018-03-31    0.356366\n",
       "2018-04-01    0.706573\n",
       "2018-04-02    0.010500\n",
       "2018-04-03    1.785870\n",
       "2018-04-04    0.126912\n",
       "2018-04-05    0.401989\n",
       "2018-04-06    1.883151\n",
       "2018-04-07   -1.347759\n",
       "2018-04-08   -1.270485\n",
       "2018-04-09    0.969397\n",
       "2018-04-10   -1.173123\n",
       "Freq: D, dtype: float64"
      ]
     },
     "execution_count": 31,
     "metadata": {},
     "output_type": "execute_result"
    }
   ],
   "source": [
    "ts = pd.Series(np.random.randn(100), index=pd.date_range(\n",
    "    \"2018-1-1\", periods=100, freq=\"D\"))\n",
    "ts.tail(20)"
   ]
  },
  {
   "cell_type": "code",
   "execution_count": 32,
   "id": "96176038",
   "metadata": {},
   "outputs": [
    {
     "data": {
      "text/plain": [
       "2018-01-07    0.246736\n",
       "2018-01-14    0.466034\n",
       "2018-01-21   -0.259401\n",
       "2018-01-28    0.358005\n",
       "2018-02-04   -0.061331\n",
       "2018-02-11   -0.632084\n",
       "2018-02-18   -0.464164\n",
       "2018-02-25   -0.128626\n",
       "2018-03-04   -0.612965\n",
       "2018-03-11    0.044234\n",
       "2018-03-18   -0.379167\n",
       "2018-03-25    0.320237\n",
       "2018-04-01    0.588796\n",
       "2018-04-08    0.227168\n",
       "2018-04-15   -0.101863\n",
       "Freq: W-SUN, dtype: float64"
      ]
     },
     "execution_count": 32,
     "metadata": {},
     "output_type": "execute_result"
    }
   ],
   "source": [
    "ts.resample('W').mean() \n",
    "#다운 샘플링의 경우 원래의 데이터가 그룹으로 묶이기 때문에 그룹연산을 해서 대표값을 구해야 한다."
   ]
  },
  {
   "cell_type": "code",
   "execution_count": 33,
   "id": "bfd9cdbf",
   "metadata": {},
   "outputs": [
    {
     "data": {
      "text/plain": [
       "2018-01-31   -0.977278\n",
       "2018-02-28    1.230291\n",
       "2018-03-31    0.177426\n",
       "2018-04-30    0.706573\n",
       "Freq: M, dtype: float64"
      ]
     },
     "execution_count": 33,
     "metadata": {},
     "output_type": "execute_result"
    }
   ],
   "source": [
    "ts.resample('M').first()\n",
    "#주기의 첫번째 값을 반환"
   ]
  },
  {
   "cell_type": "code",
   "execution_count": 34,
   "id": "30673b97",
   "metadata": {},
   "outputs": [
    {
     "data": {
      "text/plain": [
       "2018-01-01 00:00:00    1.943621\n",
       "2018-01-01 00:01:00   -0.413619\n",
       "2018-01-01 00:02:00   -0.747455\n",
       "2018-01-01 00:03:00    1.922942\n",
       "2018-01-01 00:04:00    1.480515\n",
       "2018-01-01 00:05:00    1.867559\n",
       "2018-01-01 00:06:00    0.906045\n",
       "2018-01-01 00:07:00   -0.861226\n",
       "2018-01-01 00:08:00    1.910065\n",
       "2018-01-01 00:09:00   -0.268003\n",
       "2018-01-01 00:10:00    0.802456\n",
       "2018-01-01 00:11:00    0.947252\n",
       "2018-01-01 00:12:00   -0.155010\n",
       "2018-01-01 00:13:00    0.614079\n",
       "2018-01-01 00:14:00    0.922207\n",
       "2018-01-01 00:15:00    0.376426\n",
       "2018-01-01 00:16:00   -1.099401\n",
       "2018-01-01 00:17:00    0.298238\n",
       "2018-01-01 00:18:00    1.326386\n",
       "2018-01-01 00:19:00   -0.694568\n",
       "Freq: T, dtype: float64"
      ]
     },
     "execution_count": 34,
     "metadata": {},
     "output_type": "execute_result"
    }
   ],
   "source": [
    "ts = pd.Series(np.random.randn(60), index=pd.date_range(\n",
    "    \"2018-1-1\", periods=60, freq=\"T\"))\n",
    "ts.head(20)"
   ]
  },
  {
   "cell_type": "code",
   "execution_count": 35,
   "id": "987a1393",
   "metadata": {},
   "outputs": [
    {
     "data": {
      "text/plain": [
       "2018-01-01 00:00:00    7.740444\n",
       "2018-01-01 00:10:00    3.338065\n",
       "2018-01-01 00:20:00    0.835217\n",
       "2018-01-01 00:30:00    2.480654\n",
       "2018-01-01 00:40:00   -0.653363\n",
       "2018-01-01 00:50:00   -0.959026\n",
       "Freq: 10T, dtype: float64"
      ]
     },
     "execution_count": 35,
     "metadata": {},
     "output_type": "execute_result"
    }
   ],
   "source": [
    "ts.resample('10T').sum()\n",
    "#10의 배수가 되는 시각이 뒷 구간에 포함된다."
   ]
  },
  {
   "cell_type": "code",
   "execution_count": 36,
   "id": "9786f512",
   "metadata": {},
   "outputs": [
    {
     "data": {
      "text/plain": [
       "2017-12-31 23:50:00    1.943621\n",
       "2018-01-01 00:00:00    6.599279\n",
       "2018-01-01 00:10:00    2.385974\n",
       "2018-01-01 00:20:00    1.661285\n",
       "2018-01-01 00:30:00    2.748701\n",
       "2018-01-01 00:40:00   -2.261321\n",
       "2018-01-01 00:50:00   -0.295548\n",
       "Freq: 10T, dtype: float64"
      ]
     },
     "execution_count": 36,
     "metadata": {},
     "output_type": "execute_result"
    }
   ],
   "source": [
    "ts.resample('10T', closed=\"right\").sum()\n",
    "# 오른쪽 한계값을 구간에 포함하여 10의 배수가 되는 시각이 앞 구간에 포함된다."
   ]
  },
  {
   "cell_type": "code",
   "execution_count": 37,
   "id": "2a7174e1",
   "metadata": {},
   "outputs": [
    {
     "data": {
      "text/html": [
       "<div>\n",
       "<style scoped>\n",
       "    .dataframe tbody tr th:only-of-type {\n",
       "        vertical-align: middle;\n",
       "    }\n",
       "\n",
       "    .dataframe tbody tr th {\n",
       "        vertical-align: top;\n",
       "    }\n",
       "\n",
       "    .dataframe thead th {\n",
       "        text-align: right;\n",
       "    }\n",
       "</style>\n",
       "<table border=\"1\" class=\"dataframe\">\n",
       "  <thead>\n",
       "    <tr style=\"text-align: right;\">\n",
       "      <th></th>\n",
       "      <th>open</th>\n",
       "      <th>high</th>\n",
       "      <th>low</th>\n",
       "      <th>close</th>\n",
       "    </tr>\n",
       "  </thead>\n",
       "  <tbody>\n",
       "    <tr>\n",
       "      <th>2018-01-01 00:00:00</th>\n",
       "      <td>1.943621</td>\n",
       "      <td>1.943621</td>\n",
       "      <td>-0.747455</td>\n",
       "      <td>1.480515</td>\n",
       "    </tr>\n",
       "    <tr>\n",
       "      <th>2018-01-01 00:05:00</th>\n",
       "      <td>1.867559</td>\n",
       "      <td>1.910065</td>\n",
       "      <td>-0.861226</td>\n",
       "      <td>-0.268003</td>\n",
       "    </tr>\n",
       "    <tr>\n",
       "      <th>2018-01-01 00:10:00</th>\n",
       "      <td>0.802456</td>\n",
       "      <td>0.947252</td>\n",
       "      <td>-0.155010</td>\n",
       "      <td>0.922207</td>\n",
       "    </tr>\n",
       "    <tr>\n",
       "      <th>2018-01-01 00:15:00</th>\n",
       "      <td>0.376426</td>\n",
       "      <td>1.326386</td>\n",
       "      <td>-1.099401</td>\n",
       "      <td>-0.694568</td>\n",
       "    </tr>\n",
       "    <tr>\n",
       "      <th>2018-01-01 00:20:00</th>\n",
       "      <td>-0.149635</td>\n",
       "      <td>1.849264</td>\n",
       "      <td>-0.435154</td>\n",
       "      <td>0.407462</td>\n",
       "    </tr>\n",
       "    <tr>\n",
       "      <th>2018-01-01 00:25:00</th>\n",
       "      <td>-0.769916</td>\n",
       "      <td>0.539249</td>\n",
       "      <td>-0.769916</td>\n",
       "      <td>-0.635846</td>\n",
       "    </tr>\n",
       "    <tr>\n",
       "      <th>2018-01-01 00:30:00</th>\n",
       "      <td>0.676433</td>\n",
       "      <td>0.676433</td>\n",
       "      <td>-1.093062</td>\n",
       "      <td>-1.093062</td>\n",
       "    </tr>\n",
       "    <tr>\n",
       "      <th>2018-01-01 00:35:00</th>\n",
       "      <td>-1.491258</td>\n",
       "      <td>2.383145</td>\n",
       "      <td>-1.491258</td>\n",
       "      <td>2.383145</td>\n",
       "    </tr>\n",
       "    <tr>\n",
       "      <th>2018-01-01 00:40:00</th>\n",
       "      <td>0.944479</td>\n",
       "      <td>1.117016</td>\n",
       "      <td>-1.315907</td>\n",
       "      <td>-0.461585</td>\n",
       "    </tr>\n",
       "    <tr>\n",
       "      <th>2018-01-01 00:45:00</th>\n",
       "      <td>-0.068242</td>\n",
       "      <td>1.713343</td>\n",
       "      <td>-0.826439</td>\n",
       "      <td>-0.098453</td>\n",
       "    </tr>\n",
       "    <tr>\n",
       "      <th>2018-01-01 00:50:00</th>\n",
       "      <td>-0.663478</td>\n",
       "      <td>1.126636</td>\n",
       "      <td>-1.147469</td>\n",
       "      <td>-0.437820</td>\n",
       "    </tr>\n",
       "    <tr>\n",
       "      <th>2018-01-01 00:55:00</th>\n",
       "      <td>-0.498032</td>\n",
       "      <td>1.929532</td>\n",
       "      <td>-1.225436</td>\n",
       "      <td>-1.225436</td>\n",
       "    </tr>\n",
       "  </tbody>\n",
       "</table>\n",
       "</div>"
      ],
      "text/plain": [
       "                         open      high       low     close\n",
       "2018-01-01 00:00:00  1.943621  1.943621 -0.747455  1.480515\n",
       "2018-01-01 00:05:00  1.867559  1.910065 -0.861226 -0.268003\n",
       "2018-01-01 00:10:00  0.802456  0.947252 -0.155010  0.922207\n",
       "2018-01-01 00:15:00  0.376426  1.326386 -1.099401 -0.694568\n",
       "2018-01-01 00:20:00 -0.149635  1.849264 -0.435154  0.407462\n",
       "2018-01-01 00:25:00 -0.769916  0.539249 -0.769916 -0.635846\n",
       "2018-01-01 00:30:00  0.676433  0.676433 -1.093062 -1.093062\n",
       "2018-01-01 00:35:00 -1.491258  2.383145 -1.491258  2.383145\n",
       "2018-01-01 00:40:00  0.944479  1.117016 -1.315907 -0.461585\n",
       "2018-01-01 00:45:00 -0.068242  1.713343 -0.826439 -0.098453\n",
       "2018-01-01 00:50:00 -0.663478  1.126636 -1.147469 -0.437820\n",
       "2018-01-01 00:55:00 -0.498032  1.929532 -1.225436 -1.225436"
      ]
     },
     "execution_count": 37,
     "metadata": {},
     "output_type": "execute_result"
    }
   ],
   "source": [
    "ts.resample('5T').ohlc()\n",
    "# open, high, low, close 값을 계산"
   ]
  },
  {
   "cell_type": "markdown",
   "id": "884bd44c",
   "metadata": {},
   "source": [
    "- 업샘플링의 경우 실제로 존재하지 않는 데이터를 만들어야 한다. 이때 ffill과 bfill을 사용한다,"
   ]
  },
  {
   "cell_type": "code",
   "execution_count": 38,
   "id": "4a7c7a66",
   "metadata": {},
   "outputs": [
    {
     "data": {
      "text/plain": [
       "2018-01-01 00:00:00    1.943621\n",
       "2018-01-01 00:00:30    1.943621\n",
       "2018-01-01 00:01:00   -0.413619\n",
       "2018-01-01 00:01:30   -0.413619\n",
       "2018-01-01 00:02:00   -0.747455\n",
       "2018-01-01 00:02:30   -0.747455\n",
       "2018-01-01 00:03:00    1.922942\n",
       "2018-01-01 00:03:30    1.922942\n",
       "2018-01-01 00:04:00    1.480515\n",
       "2018-01-01 00:04:30    1.480515\n",
       "2018-01-01 00:05:00    1.867559\n",
       "2018-01-01 00:05:30    1.867559\n",
       "2018-01-01 00:06:00    0.906045\n",
       "2018-01-01 00:06:30    0.906045\n",
       "2018-01-01 00:07:00   -0.861226\n",
       "2018-01-01 00:07:30   -0.861226\n",
       "2018-01-01 00:08:00    1.910065\n",
       "2018-01-01 00:08:30    1.910065\n",
       "2018-01-01 00:09:00   -0.268003\n",
       "2018-01-01 00:09:30   -0.268003\n",
       "Freq: 30S, dtype: float64"
      ]
     },
     "execution_count": 38,
     "metadata": {},
     "output_type": "execute_result"
    }
   ],
   "source": [
    "ts.resample('30s').ffill().head(20)\n",
    "#시간을 30초 단위로 쪼개면 값이 존재하지 않는 시간들이 존재하는데 이를 ffill을 통해 앞의 값가 동일한 값을 갖도록 해준다."
   ]
  },
  {
   "cell_type": "code",
   "execution_count": 39,
   "id": "86d9cd54",
   "metadata": {},
   "outputs": [
    {
     "data": {
      "text/plain": [
       "2018-01-01 00:00:00    1.943621\n",
       "2018-01-01 00:00:30   -0.413619\n",
       "2018-01-01 00:01:00   -0.413619\n",
       "2018-01-01 00:01:30   -0.747455\n",
       "2018-01-01 00:02:00   -0.747455\n",
       "2018-01-01 00:02:30    1.922942\n",
       "2018-01-01 00:03:00    1.922942\n",
       "2018-01-01 00:03:30    1.480515\n",
       "2018-01-01 00:04:00    1.480515\n",
       "2018-01-01 00:04:30    1.867559\n",
       "2018-01-01 00:05:00    1.867559\n",
       "2018-01-01 00:05:30    0.906045\n",
       "2018-01-01 00:06:00    0.906045\n",
       "2018-01-01 00:06:30   -0.861226\n",
       "2018-01-01 00:07:00   -0.861226\n",
       "2018-01-01 00:07:30    1.910065\n",
       "2018-01-01 00:08:00    1.910065\n",
       "2018-01-01 00:08:30   -0.268003\n",
       "2018-01-01 00:09:00   -0.268003\n",
       "2018-01-01 00:09:30    0.802456\n",
       "Freq: 30S, dtype: float64"
      ]
     },
     "execution_count": 39,
     "metadata": {},
     "output_type": "execute_result"
    }
   ],
   "source": [
    "ts.resample('30s').bfill().head(20)\n",
    "#bfill은 빈값을 뒤의 값과 동일하게 맞춰준다"
   ]
  },
  {
   "cell_type": "markdown",
   "id": "d82b53d1",
   "metadata": {},
   "source": [
    "## dt접근자\n",
    "- datetime자료형 시리즈에는 dt접근자가 있어 datetime 자료형이 가진 몇가지 유용한 속성과 메서드를 사용할 수 있다."
   ]
  },
  {
   "cell_type": "code",
   "execution_count": 40,
   "id": "bd66e06f",
   "metadata": {},
   "outputs": [
    {
     "data": {
      "text/plain": [
       "0    2020-12-25\n",
       "1    2020-12-26\n",
       "2    2020-12-27\n",
       "3    2020-12-28\n",
       "4    2020-12-29\n",
       "        ...    \n",
       "95   2021-03-30\n",
       "96   2021-03-31\n",
       "97   2021-04-01\n",
       "98   2021-04-02\n",
       "99   2021-04-03\n",
       "Length: 100, dtype: datetime64[ns]"
      ]
     },
     "execution_count": 40,
     "metadata": {},
     "output_type": "execute_result"
    }
   ],
   "source": [
    "s = pd.Series(pd.date_range(\"2020-12-25\", periods=100, freq=\"D\"))\n",
    "s"
   ]
  },
  {
   "cell_type": "code",
   "execution_count": 41,
   "id": "1da86172",
   "metadata": {},
   "outputs": [
    {
     "data": {
      "text/plain": [
       "0     2020\n",
       "1     2020\n",
       "2     2020\n",
       "3     2020\n",
       "4     2020\n",
       "      ... \n",
       "95    2021\n",
       "96    2021\n",
       "97    2021\n",
       "98    2021\n",
       "99    2021\n",
       "Length: 100, dtype: int64"
      ]
     },
     "execution_count": 41,
     "metadata": {},
     "output_type": "execute_result"
    }
   ],
   "source": [
    "s.dt.year\n",
    "#각 항목의 연도만 추출"
   ]
  },
  {
   "cell_type": "code",
   "execution_count": 42,
   "id": "1dd575ab",
   "metadata": {},
   "outputs": [
    {
     "data": {
      "text/plain": [
       "0     4\n",
       "1     5\n",
       "2     6\n",
       "3     0\n",
       "4     1\n",
       "     ..\n",
       "95    1\n",
       "96    2\n",
       "97    3\n",
       "98    4\n",
       "99    5\n",
       "Length: 100, dtype: int64"
      ]
     },
     "execution_count": 42,
     "metadata": {},
     "output_type": "execute_result"
    }
   ],
   "source": [
    "s.dt.weekday"
   ]
  },
  {
   "cell_type": "code",
   "execution_count": 43,
   "id": "088f3af3",
   "metadata": {},
   "outputs": [
    {
     "data": {
      "text/plain": [
       "0     2020년 12월 25일\n",
       "1     2020년 12월 26일\n",
       "2     2020년 12월 27일\n",
       "3     2020년 12월 28일\n",
       "4     2020년 12월 29일\n",
       "          ...      \n",
       "95    2021년 03월 30일\n",
       "96    2021년 03월 31일\n",
       "97    2021년 04월 01일\n",
       "98    2021년 04월 02일\n",
       "99    2021년 04월 03일\n",
       "Length: 100, dtype: object"
      ]
     },
     "execution_count": 43,
     "metadata": {},
     "output_type": "execute_result"
    }
   ],
   "source": [
    "s.dt.strftime(\"%Y년 %m월 %d일\")\n",
    "#날짜의 표현 방법 설정 가능"
   ]
  },
  {
   "cell_type": "markdown",
   "id": "67f4ef33",
   "metadata": {},
   "source": [
    "## timedelta & offset\n",
    "- 둘을 이용하면 날짜끼리 연산을 가능하게 해준다."
   ]
  },
  {
   "cell_type": "code",
   "execution_count": 45,
   "id": "06f9c449",
   "metadata": {},
   "outputs": [
    {
     "name": "stderr",
     "output_type": "stream",
     "text": [
      "C:\\Users\\kimht\\AppData\\Local\\Temp\\ipykernel_2752\\2518680189.py:3: FutureWarning: The pandas.datetime class is deprecated and will be removed from pandas in a future version. Import from datetime module instead.\n",
      "  t1 = pd.datetime(2023,5,27)\n",
      "C:\\Users\\kimht\\AppData\\Local\\Temp\\ipykernel_2752\\2518680189.py:4: FutureWarning: The pandas.datetime class is deprecated and will be removed from pandas in a future version. Import from datetime module instead.\n",
      "  t2 = pd.datetime(2023,5,31)\n"
     ]
    },
    {
     "data": {
      "text/plain": [
       "datetime.datetime(2023, 9, 4, 0, 0)"
      ]
     },
     "execution_count": 45,
     "metadata": {},
     "output_type": "execute_result"
    }
   ],
   "source": [
    "#timedelta\n",
    "from datetime import timedelta\n",
    "t1 = pd.datetime(2023,5,27)\n",
    "t2 = pd.datetime(2023,5,31)\n",
    "t1 + timedelta(100)"
   ]
  },
  {
   "cell_type": "code",
   "execution_count": 47,
   "id": "1dc1ee12",
   "metadata": {},
   "outputs": [
    {
     "data": {
      "text/plain": [
       "['BDay',\n",
       " 'BMonthBegin',\n",
       " 'BMonthEnd',\n",
       " 'BQuarterBegin',\n",
       " 'BQuarterEnd',\n",
       " 'BYearBegin',\n",
       " 'BYearEnd',\n",
       " 'BaseOffset',\n",
       " 'BusinessDay',\n",
       " 'BusinessHour',\n",
       " 'BusinessMonthBegin',\n",
       " 'BusinessMonthEnd',\n",
       " 'CBMonthBegin',\n",
       " 'CBMonthEnd',\n",
       " 'CDay',\n",
       " 'CustomBusinessDay',\n",
       " 'CustomBusinessHour',\n",
       " 'CustomBusinessMonthBegin',\n",
       " 'CustomBusinessMonthEnd',\n",
       " 'DateOffset',\n",
       " 'Day',\n",
       " 'Easter',\n",
       " 'FY5253',\n",
       " 'FY5253Quarter',\n",
       " 'Hour',\n",
       " 'LastWeekOfMonth',\n",
       " 'Micro',\n",
       " 'Milli',\n",
       " 'Minute',\n",
       " 'MonthBegin',\n",
       " 'MonthEnd',\n",
       " 'Nano',\n",
       " 'QuarterBegin',\n",
       " 'QuarterEnd',\n",
       " 'Second',\n",
       " 'SemiMonthBegin',\n",
       " 'SemiMonthEnd',\n",
       " 'Tick',\n",
       " 'Week',\n",
       " 'WeekOfMonth',\n",
       " 'YearBegin',\n",
       " 'YearEnd',\n",
       " '__all__',\n",
       " '__builtins__',\n",
       " '__cached__',\n",
       " '__doc__',\n",
       " '__file__',\n",
       " '__loader__',\n",
       " '__name__',\n",
       " '__package__',\n",
       " '__spec__']"
      ]
     },
     "execution_count": 47,
     "metadata": {},
     "output_type": "execute_result"
    }
   ],
   "source": [
    "import pandas.tseries.offsets\n",
    "dir(pandas.tseries.offsets)"
   ]
  },
  {
   "cell_type": "code",
   "execution_count": 48,
   "id": "9018fe3c",
   "metadata": {},
   "outputs": [
    {
     "data": {
      "text/plain": [
       "Timestamp('2023-09-04 00:00:00')"
      ]
     },
     "execution_count": 48,
     "metadata": {},
     "output_type": "execute_result"
    }
   ],
   "source": [
    "from pandas.tseries.offsets import Day, Hour, Second #offsets에서 필요한 모듈 추출\n",
    "t1 + Day(100)"
   ]
  },
  {
   "cell_type": "code",
   "execution_count": 49,
   "id": "7878b2fb",
   "metadata": {},
   "outputs": [
    {
     "data": {
      "text/plain": [
       "Timestamp('2023-05-31 05:00:00')"
      ]
     },
     "execution_count": 49,
     "metadata": {},
     "output_type": "execute_result"
    }
   ],
   "source": [
    "t2 + Hour(5)"
   ]
  },
  {
   "cell_type": "code",
   "execution_count": null,
   "id": "9e4fd5dd",
   "metadata": {},
   "outputs": [],
   "source": []
  }
 ],
 "metadata": {
  "kernelspec": {
   "display_name": "Python 3 (ipykernel)",
   "language": "python",
   "name": "python3"
  },
  "language_info": {
   "codemirror_mode": {
    "name": "ipython",
    "version": 3
   },
   "file_extension": ".py",
   "mimetype": "text/x-python",
   "name": "python",
   "nbconvert_exporter": "python",
   "pygments_lexer": "ipython3",
   "version": "3.9.12"
  }
 },
 "nbformat": 4,
 "nbformat_minor": 5
}
