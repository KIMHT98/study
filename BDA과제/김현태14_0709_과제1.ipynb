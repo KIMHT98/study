{
 "cells": [
  {
   "cell_type": "markdown",
   "id": "912ee241",
   "metadata": {},
   "source": [
    "## 정규표현식\n",
    "- * : 문자 또는 숫자가 0개 이상 나타남을 의미 (ex.'a*'-> 0개 이상의 문자와 일치\n",
    "- + : 문자 또는 숫자가 1개 이상 나타남을 의미 (ex.'[nop]+'-> n,o,p문자가 하나 이상 있는 경우 일치"
   ]
  },
  {
   "cell_type": "code",
   "execution_count": 1,
   "id": "987b3315",
   "metadata": {},
   "outputs": [],
   "source": [
    "import re"
   ]
  },
  {
   "cell_type": "code",
   "execution_count": 7,
   "id": "d30d53ce",
   "metadata": {},
   "outputs": [
    {
     "name": "stdout",
     "output_type": "stream",
     "text": [
      "None\n"
     ]
    }
   ],
   "source": [
    "m = re.search('cat','ct')\n",
    "print(m) #문자열에 a가 없기 때문에 리턴X"
   ]
  },
  {
   "cell_type": "code",
   "execution_count": 3,
   "id": "2a8f27de",
   "metadata": {},
   "outputs": [
    {
     "name": "stdout",
     "output_type": "stream",
     "text": [
      "<re.Match object; span=(0, 2), match='ct'>\n"
     ]
    }
   ],
   "source": [
    "m = re.search('ca*t','ct')\n",
    "print(m) #문자열에 a가 없더라고 *덕분에 리턴O"
   ]
  },
  {
   "cell_type": "code",
   "execution_count": 4,
   "id": "c7a56c06",
   "metadata": {},
   "outputs": [
    {
     "name": "stdout",
     "output_type": "stream",
     "text": [
      "<re.Match object; span=(0, 3), match='cat'>\n"
     ]
    }
   ],
   "source": [
    "m = re.search('ca*t','cat')\n",
    "print(m)"
   ]
  },
  {
   "cell_type": "code",
   "execution_count": 5,
   "id": "10744507",
   "metadata": {},
   "outputs": [
    {
     "name": "stdout",
     "output_type": "stream",
     "text": [
      "<re.Match object; span=(0, 4), match='caat'>\n"
     ]
    }
   ],
   "source": [
    "m = re.search('ca*t','caat')\n",
    "print(m)"
   ]
  },
  {
   "cell_type": "code",
   "execution_count": 6,
   "id": "31666a4d",
   "metadata": {},
   "outputs": [
    {
     "name": "stdout",
     "output_type": "stream",
     "text": [
      "<re.Match object; span=(0, 2), match='ct'>\n"
     ]
    }
   ],
   "source": [
    "m = re.search('ca*t','ctt')\n",
    "print(m) #a가 없더라도 ct까지 리턴O"
   ]
  },
  {
   "cell_type": "code",
   "execution_count": 9,
   "id": "56de120c",
   "metadata": {},
   "outputs": [
    {
     "name": "stdout",
     "output_type": "stream",
     "text": [
      "None\n"
     ]
    }
   ],
   "source": [
    "m = re.search('ca+t','ct')\n",
    "print(m) #a가 없어서 리턴X"
   ]
  },
  {
   "cell_type": "code",
   "execution_count": 11,
   "id": "7099d56a",
   "metadata": {},
   "outputs": [
    {
     "name": "stdout",
     "output_type": "stream",
     "text": [
      "<re.Match object; span=(0, 3), match='cat'>\n"
     ]
    }
   ],
   "source": [
    "m = re.search('ca+t','cat')\n",
    "print(m)"
   ]
  },
  {
   "cell_type": "code",
   "execution_count": 12,
   "id": "32d1cd1f",
   "metadata": {},
   "outputs": [
    {
     "name": "stdout",
     "output_type": "stream",
     "text": [
      "<re.Match object; span=(0, 4), match='caat'>\n"
     ]
    }
   ],
   "source": [
    "m = re.search('ca+t','caat')\n",
    "print(m)"
   ]
  },
  {
   "cell_type": "code",
   "execution_count": 13,
   "id": "122fae40",
   "metadata": {},
   "outputs": [
    {
     "name": "stdout",
     "output_type": "stream",
     "text": [
      "None\n"
     ]
    }
   ],
   "source": [
    "m = re.search('ca+t','ctt')\n",
    "print(m) #a가 없어서 리턴X"
   ]
  },
  {
   "cell_type": "code",
   "execution_count": 17,
   "id": "677c1d8b",
   "metadata": {},
   "outputs": [
    {
     "name": "stdout",
     "output_type": "stream",
     "text": [
      "<re.Match object; span=(0, 5), match='ctavt'>\n"
     ]
    }
   ],
   "source": [
    "m = re.search('c[a-z]+t','ctavt')\n",
    "print(m) #ct사이에 문자가 존재하므로 0-5까지 리턴"
   ]
  },
  {
   "cell_type": "code",
   "execution_count": 16,
   "id": "480be0b9",
   "metadata": {},
   "outputs": [
    {
     "name": "stdout",
     "output_type": "stream",
     "text": [
      "<re.Match object; span=(0, 2), match='ct'>\n"
     ]
    }
   ],
   "source": [
    "m = re.search('c[a-z]*t','ctabc2aa')\n",
    "print(m) #ct사이에 문자가 없기때문에 0-2까지만 리턴"
   ]
  }
 ],
 "metadata": {
  "kernelspec": {
   "display_name": "Python 3 (ipykernel)",
   "language": "python",
   "name": "python3"
  },
  "language_info": {
   "codemirror_mode": {
    "name": "ipython",
    "version": 3
   },
   "file_extension": ".py",
   "mimetype": "text/x-python",
   "name": "python",
   "nbconvert_exporter": "python",
   "pygments_lexer": "ipython3",
   "version": "3.9.12"
  }
 },
 "nbformat": 4,
 "nbformat_minor": 5
}
