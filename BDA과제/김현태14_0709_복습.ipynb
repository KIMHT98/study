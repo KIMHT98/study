{
 "cells": [
  {
   "cell_type": "markdown",
   "id": "adb6a8b4",
   "metadata": {},
   "source": [
    "## 정규 표현식\n",
    "- 나만의 규칙 또는 패턴을 만들 수 있음\n",
    "- 복잡하고 다양한 문자열 속에서 원하는 문자만 추출하고 원하는 패턴으로 추출할 수 있음\n",
    "- 문자열 함수로만 풀 수 없는 상황에 이용하여 전처리 또는 추출을 할 수 있음"
   ]
  },
  {
   "cell_type": "code",
   "execution_count": 1,
   "id": "cc14cff6",
   "metadata": {},
   "outputs": [],
   "source": [
    "#정규 포현식 패키지 -> re\n",
    "# re에는 re.match 또는 search, sub세가지 방법이 존재\n",
    "import re"
   ]
  },
  {
   "cell_type": "code",
   "execution_count": 2,
   "id": "bf12c3ed",
   "metadata": {},
   "outputs": [
    {
     "data": {
      "text/plain": [
       "<re.Match object; span=(0, 5), match='Hello'>"
      ]
     },
     "execution_count": 2,
     "metadata": {},
     "output_type": "execute_result"
    }
   ],
   "source": [
    "# re.match('패턴', 문자열)\n",
    "re.match('Hello','Hello, world')"
   ]
  },
  {
   "cell_type": "code",
   "execution_count": 3,
   "id": "a263045a",
   "metadata": {},
   "outputs": [
    {
     "data": {
      "text/plain": [
       "<re.Match object; span=(0, 2), match='ab'>"
      ]
     },
     "execution_count": 3,
     "metadata": {},
     "output_type": "execute_result"
    }
   ],
   "source": [
    "re.match('ab','ab, Hello world!')"
   ]
  },
  {
   "cell_type": "markdown",
   "id": "10bd8387",
   "metadata": {},
   "source": [
    "- 이메일 abcdefg@기업명.net(com) 등등 패턴이 발생\n",
    "- 패턴을 이용해서 로우데이터에서 이메일을 찾거나 이메일의 형식이 맞는지 체크할 수 있다."
   ]
  },
  {
   "cell_type": "markdown",
   "id": "2d108f90",
   "metadata": {},
   "source": [
    "## 매치포인트\n",
    "- match나 search 등은 매치 오브젝트를 리턴\n",
    "- 매치된 문자열이나 위치는 매치 오브젝트의 이하의 메소드를 사용하여 취득\n",
    "- 매치된 위치를 취득 start(), end(), span()\n",
    "- 매치된 문자열을 취득 group()\n",
    "- 각 그룹의 문자열을 취득 groups()"
   ]
  },
  {
   "cell_type": "code",
   "execution_count": 4,
   "id": "332ecec0",
   "metadata": {},
   "outputs": [
    {
     "name": "stdout",
     "output_type": "stream",
     "text": [
      "<re.Match object; span=(0, 11), match='aaa@xxx.com'>\n",
      "<class 're.Match'>\n"
     ]
    }
   ],
   "source": [
    "s = 'aaa@xxx.com'\n",
    "m = re.match(r'[a-z]+@[a-z]+\\.[a-z]+',s)\n",
    "print(m)\n",
    "print(type(m))"
   ]
  },
  {
   "cell_type": "code",
   "execution_count": 5,
   "id": "4f0069ca",
   "metadata": {},
   "outputs": [
    {
     "name": "stdout",
     "output_type": "stream",
     "text": [
      "0\n",
      "11\n",
      "(0, 11)\n",
      "aaa@xxx.com\n"
     ]
    }
   ],
   "source": [
    "print(m.start())\n",
    "print(m.end())\n",
    "print(m.span())\n",
    "print(m.group())"
   ]
  },
  {
   "cell_type": "markdown",
   "id": "02500eae",
   "metadata": {},
   "source": [
    "- 매치된 부분의 위치는 start(), end(), span(), 문자열은 group().\n",
    "- 정규펴현 패턴의 문자열 내의 부분을 괄호로 묶으면, 그 부분이 그룹으로 처리된다."
   ]
  },
  {
   "cell_type": "code",
   "execution_count": 6,
   "id": "0c05b326",
   "metadata": {},
   "outputs": [
    {
     "name": "stdout",
     "output_type": "stream",
     "text": [
      "<re.Match object; span=(0, 11), match='aaa@xxx.com'>\n",
      "('aaa', 'xxx', 'com')\n"
     ]
    }
   ],
   "source": [
    "m = re.match(r'([a-z]+)@([a-z]+)\\.([a-z]+)', s)\n",
    "print(m)\n",
    "\n",
    "print(m.groups())"
   ]
  },
  {
   "cell_type": "markdown",
   "id": "c2a15c4d",
   "metadata": {},
   "source": [
    "## match()\n",
    "- 문자열의 선두가 패턴에 매치되면 매치 오브젝트를 반환\n",
    "- 매치된 부분 문자열을 추출 또는 단순히 매치됐는지 아닌지를 체크하는 것이 가능\n",
    "- 선두에 매치되는 문자열이 없는 경우는 None이 반환"
   ]
  },
  {
   "cell_type": "code",
   "execution_count": 7,
   "id": "26efc54c",
   "metadata": {},
   "outputs": [
    {
     "name": "stdout",
     "output_type": "stream",
     "text": [
      "<re.Match object; span=(0, 11), match='aaa@xxx.com'>\n",
      "None\n"
     ]
    }
   ],
   "source": [
    "s = 'aaa@xxx.com, bbb@yyy.com, ccc@zzz.net'\n",
    "\n",
    "m = re.match(r'[a-z]+@[a-z]+\\.com', s)\n",
    "print(m)\n",
    "\n",
    "m = re.match(r'[a-z]+@[a-z]+\\.net', s)\n",
    "print(m)"
   ]
  },
  {
   "cell_type": "code",
   "execution_count": 9,
   "id": "8e2d0050",
   "metadata": {},
   "outputs": [
    {
     "name": "stdout",
     "output_type": "stream",
     "text": [
      "None\n"
     ]
    }
   ],
   "source": [
    "print(re.match('Hello','ab Hello')) #패턴이 선두에 있지 않기 때문에 못찾는다."
   ]
  },
  {
   "cell_type": "markdown",
   "id": "320fc5de",
   "metadata": {},
   "source": [
    "## search()\n",
    "- 문자열 모두를 검색 대상으로 하여 앞의 문자열이 아닌 것도 매치\n",
    "- 매치된 경유 매치 오브젝트가 반환\n",
    "- 매치될 부분이 여러개인 경우, 처음 매치되는 부분만 리턴"
   ]
  },
  {
   "cell_type": "code",
   "execution_count": 14,
   "id": "97b79f30",
   "metadata": {},
   "outputs": [
    {
     "name": "stdout",
     "output_type": "stream",
     "text": [
      "<re.Match object; span=(26, 37), match='ccc@zzz.net'>\n",
      "<re.Match object; span=(0, 11), match='aaa@xxx.com'>\n"
     ]
    }
   ],
   "source": [
    "s = 'aaa@xxx.com, bbb@yyy.com, ccc@zzz.net'\n",
    "\n",
    "m = re.search(r'[a-z]+@[a-z]+\\.net', s)\n",
    "print(m)\n",
    "\n",
    "m = re.search(r'[a-z]+@[a-z]+\\.com', s)\n",
    "print(m)\n"
   ]
  },
  {
   "cell_type": "markdown",
   "id": "edc6eeab",
   "metadata": {},
   "source": [
    "## 패턴을 만들기 위한 여러가지 특수문자\n",
    "- 숫자패턴의 경우 [0-9], 전체 모든 숫자를 뜻한다.\n",
    "- 패턴을 확장하기 위해서 사용하는 특수문자\n",
    "- '*'\n",
    "- '+'\n",
    "- 숫자에 대해서 0개 이상 있는지 1개 이상있는지에 따라 모든 숫자를 찾는다."
   ]
  },
  {
   "cell_type": "code",
   "execution_count": 10,
   "id": "1633a4d9",
   "metadata": {},
   "outputs": [
    {
     "data": {
      "text/plain": [
       "<re.Match object; span=(0, 1), match='1'>"
      ]
     },
     "execution_count": 10,
     "metadata": {},
     "output_type": "execute_result"
    }
   ],
   "source": [
    "re.search('[0-9]','12345, hihihi')\n",
    "# 숫자 데이터만 찾고싶다.\n",
    "# 1만 찾아준다."
   ]
  },
  {
   "cell_type": "code",
   "execution_count": 12,
   "id": "b301e6cd",
   "metadata": {},
   "outputs": [
    {
     "data": {
      "text/plain": [
       "<re.Match object; span=(0, 5), match='12345'>"
      ]
     },
     "execution_count": 12,
     "metadata": {},
     "output_type": "execute_result"
    }
   ],
   "source": [
    "re.search('[0-9]*','12345, hihihi')"
   ]
  },
  {
   "cell_type": "code",
   "execution_count": 13,
   "id": "a98945dd",
   "metadata": {},
   "outputs": [
    {
     "data": {
      "text/plain": [
       "<re.Match object; span=(0, 5), match='12345'>"
      ]
     },
     "execution_count": 13,
     "metadata": {},
     "output_type": "execute_result"
    }
   ],
   "source": [
    "re.search('[0-9]+','12345, hihihi')"
   ]
  },
  {
   "cell_type": "markdown",
   "id": "3beace24",
   "metadata": {},
   "source": [
    "- 문자{개수}\n",
    "- (문자열){개수}"
   ]
  },
  {
   "cell_type": "code",
   "execution_count": 16,
   "id": "83f50fcb",
   "metadata": {},
   "outputs": [
    {
     "data": {
      "text/plain": [
       "<re.Match object; span=(0, 3), match='aaa'>"
      ]
     },
     "execution_count": 16,
     "metadata": {},
     "output_type": "execute_result"
    }
   ],
   "source": [
    "re.match('a{3}','aaaa32')"
   ]
  },
  {
   "cell_type": "code",
   "execution_count": 18,
   "id": "4a6e7cb8",
   "metadata": {},
   "outputs": [],
   "source": [
    "re.match('a{3}','aa32') #a가 3개보다 적기 떄문에 리턴X"
   ]
  },
  {
   "cell_type": "code",
   "execution_count": 19,
   "id": "5be5f8f5",
   "metadata": {},
   "outputs": [
    {
     "data": {
      "text/plain": [
       "<re.Match object; span=(0, 10), match='hihihihihi'>"
      ]
     },
     "execution_count": 19,
     "metadata": {},
     "output_type": "execute_result"
    }
   ],
   "source": [
    "re.match('(hi){5}','hihihihihi1234')"
   ]
  },
  {
   "cell_type": "code",
   "execution_count": 21,
   "id": "280dd8f9",
   "metadata": {},
   "outputs": [],
   "source": [
    "re.match('(hi){5}','hihiHihihi1234')"
   ]
  },
  {
   "cell_type": "markdown",
   "id": "ae9d0140",
   "metadata": {},
   "source": [
    "## 전화번호 패턴\n",
    "- 000-0000-0000의 형태\n",
    "- 모든숫자(3개)-숫자(4개)-숫자(4개)"
   ]
  },
  {
   "cell_type": "code",
   "execution_count": 22,
   "id": "779e25f1",
   "metadata": {},
   "outputs": [
    {
     "data": {
      "text/plain": [
       "<re.Match object; span=(0, 13), match='010-4943-1481'>"
      ]
     },
     "execution_count": 22,
     "metadata": {},
     "output_type": "execute_result"
    }
   ],
   "source": [
    "re.match('[0-9]{3}-[0-9]{4}-[0-9]{4}','010-4943-148123') #전화번호 위치까지만 리턴"
   ]
  },
  {
   "cell_type": "code",
   "execution_count": 24,
   "id": "01961438",
   "metadata": {},
   "outputs": [
    {
     "data": {
      "text/plain": [
       "<re.Match object; span=(0, 14), match='010-1234-56781'>"
      ]
     },
     "execution_count": 24,
     "metadata": {},
     "output_type": "execute_result"
    }
   ],
   "source": [
    "re.match('[0-9]*-[0-9]*-[0-9]*','010-1234-56781') #개수가 아닌 정규표현식 사용시 전화번호 이외에 뒤의 숫자도 리턴"
   ]
  },
  {
   "cell_type": "markdown",
   "id": "8dc685e7",
   "metadata": {},
   "source": [
    "## 문자\n",
    "- a-z : 모든 알파벳 소문자\n",
    "- A-Z : 모든 알파벳 대문자\n",
    "- A-z : 모든 알파벳\n",
    "- 가-힣 : 모든 한글\n",
    "- 특수문자의 경우 앞에 \\를 붙힌다\n",
    "- /d : 모든 숫자\n",
    "- /D : 모든 숫자를 제외\n",
    "- not [^0-9] : 모든 문자를 제외\n",
    "- \\w [a-zA-Z0-9_] : 영문, 대소문자, 숫자, 밑줄 문자\n",
    "- \\W [^a-zA-Z0-9_] : 위에 \\w를 제외한 나머지\n",
    "- \\s or \\S : 공백"
   ]
  },
  {
   "cell_type": "code",
   "execution_count": 25,
   "id": "cda6287e",
   "metadata": {},
   "outputs": [
    {
     "data": {
      "text/plain": [
       "<re.Match object; span=(0, 4), match='hihi'>"
      ]
     },
     "execution_count": 25,
     "metadata": {},
     "output_type": "execute_result"
    }
   ],
   "source": [
    "re.match('[a-z]*','hihi1234')"
   ]
  },
  {
   "cell_type": "code",
   "execution_count": 26,
   "id": "2669c19b",
   "metadata": {},
   "outputs": [
    {
     "data": {
      "text/plain": [
       "<re.Match object; span=(0, 9), match='kht123456'>"
      ]
     },
     "execution_count": 26,
     "metadata": {},
     "output_type": "execute_result"
    }
   ],
   "source": [
    "#문자와 숫자 모두 리턴하고 싶은 경우\n",
    "re.match('[a-z0-9]*','kht123456')"
   ]
  },
  {
   "cell_type": "code",
   "execution_count": 27,
   "id": "8a1e0b22",
   "metadata": {},
   "outputs": [
    {
     "data": {
      "text/plain": [
       "<re.Match object; span=(15, 20), match='안녕하세요'>"
      ]
     },
     "execution_count": 27,
     "metadata": {},
     "output_type": "execute_result"
    }
   ],
   "source": [
    "re.search('[가-힣]+','www.python.org/안녕하세요?') #한글의 경우"
   ]
  },
  {
   "cell_type": "code",
   "execution_count": 28,
   "id": "367c4a34",
   "metadata": {},
   "outputs": [
    {
     "data": {
      "text/plain": [
       "<re.Match object; span=(0, 1), match='?'>"
      ]
     },
     "execution_count": 28,
     "metadata": {},
     "output_type": "execute_result"
    }
   ],
   "source": [
    "re.search('\\?+', '?안녕!')#특수문자의 경우"
   ]
  },
  {
   "cell_type": "code",
   "execution_count": 29,
   "id": "689b9e70",
   "metadata": {},
   "outputs": [
    {
     "data": {
      "text/plain": [
       "<re.Match object; span=(0, 8), match='hi 12345'>"
      ]
     },
     "execution_count": 29,
     "metadata": {},
     "output_type": "execute_result"
    }
   ],
   "source": [
    "re.match('[a-zA-Z0-9\\s]+', 'hi 12345')"
   ]
  },
  {
   "cell_type": "markdown",
   "id": "4f096687",
   "metadata": {},
   "source": [
    "## 그룹 사용하기\n",
    "- (정규표현식)(정규표현식)"
   ]
  },
  {
   "cell_type": "code",
   "execution_count": 30,
   "id": "6c853221",
   "metadata": {},
   "outputs": [],
   "source": [
    "ab = re.match('([0-9]+) ([a-z]+)','1234 abcd')"
   ]
  },
  {
   "cell_type": "code",
   "execution_count": 31,
   "id": "1ba06b1c",
   "metadata": {},
   "outputs": [
    {
     "data": {
      "text/plain": [
       "'1234 abcd'"
      ]
     },
     "execution_count": 31,
     "metadata": {},
     "output_type": "execute_result"
    }
   ],
   "source": [
    "ab.group()"
   ]
  },
  {
   "cell_type": "code",
   "execution_count": 32,
   "id": "932ab60b",
   "metadata": {},
   "outputs": [
    {
     "data": {
      "text/plain": [
       "'1234'"
      ]
     },
     "execution_count": 32,
     "metadata": {},
     "output_type": "execute_result"
    }
   ],
   "source": [
    "ab.group(1)"
   ]
  },
  {
   "cell_type": "code",
   "execution_count": 33,
   "id": "22668662",
   "metadata": {},
   "outputs": [
    {
     "data": {
      "text/plain": [
       "'abcd'"
      ]
     },
     "execution_count": 33,
     "metadata": {},
     "output_type": "execute_result"
    }
   ],
   "source": [
    "ab.group(2)"
   ]
  },
  {
   "cell_type": "markdown",
   "id": "bbd411f5",
   "metadata": {},
   "source": [
    "## 이메일을 찾는 정규표현식\n",
    "- 영어 소문자, 숫자만 가능\n",
    "- 대문자는 불가능\n",
    "- 문자열로 시작\n",
    "- @(홈페이지).com으로 끝남\n",
    "- 홈페이지에는 문자열만\n",
    "- '[a-z0-9]*@[a-z]*.[a-z]{3}'"
   ]
  },
  {
   "cell_type": "code",
   "execution_count": 34,
   "id": "d75e1f7b",
   "metadata": {},
   "outputs": [
    {
     "data": {
      "text/plain": [
       "'kht1335@naver.com'"
      ]
     },
     "execution_count": 34,
     "metadata": {},
     "output_type": "execute_result"
    }
   ],
   "source": [
    "'kht1335@naver.com'"
   ]
  },
  {
   "cell_type": "code",
   "execution_count": 35,
   "id": "1163a278",
   "metadata": {},
   "outputs": [
    {
     "data": {
      "text/plain": [
       "<re.Match object; span=(0, 17), match='kht1335@naver.com'>"
      ]
     },
     "execution_count": 35,
     "metadata": {},
     "output_type": "execute_result"
    }
   ],
   "source": [
    "re.match('[a-z0-9]*@[a-z]*.[a-z]{3}','kht1335@naver.com')"
   ]
  },
  {
   "cell_type": "code",
   "execution_count": 36,
   "id": "62b2c233",
   "metadata": {},
   "outputs": [
    {
     "data": {
      "text/plain": [
       "<re.Match object; span=(0, 15), match='python@gmai.com'>"
      ]
     },
     "execution_count": 36,
     "metadata": {},
     "output_type": "execute_result"
    }
   ],
   "source": [
    "re.search('[a-z]*[0-9]*@[a-z]*.com','python@gmai.com') #net로 끝날 수도 있으므로 위의 방법 추천"
   ]
  },
  {
   "cell_type": "markdown",
   "id": "2aa79193",
   "metadata": {},
   "source": [
    "## 텍스트 분석\n",
    "- 문자열, 텍스트에 대한 데이터 분석\n",
    "- 문자는 컴퓨터가 계산을 못하므로 수치화해야한다.\n",
    "- 카운팅기반 또는 빈도에 대해 수치화\n",
    "- 원핫인코딩, 레이블인코딩, 인코딩 등을 진행해서 문자를 수치화\n",
    "- 영어, 한국어 konlp 를 이용해서 형태소처리 할 수 있다.\n",
    "- 영어 nltk, okt, twitter 다양하다.\n",
    "- 자연어 처리 토큰화 모듈\n",
    "- 자연어처리 토큰화 모듈\n",
    "- From nltk.tokenize import sent_tokenize\n",
    "- From konlpy.tag import Hannaum\n",
    "- From knolpy.tag import Kkma\n",
    "- From konlpy.tag import Okt\n",
    "- from konlpy.tag import Mecab"
   ]
  },
  {
   "cell_type": "code",
   "execution_count": 2,
   "id": "c25446b7",
   "metadata": {},
   "outputs": [],
   "source": [
    "import pandas as pd\n",
    "survey = pd.read_csv('../BDA/CSV/survey_설문지.csv')"
   ]
  },
  {
   "cell_type": "code",
   "execution_count": 3,
   "id": "28b339ee",
   "metadata": {},
   "outputs": [
    {
     "data": {
      "text/html": [
       "<div>\n",
       "<style scoped>\n",
       "    .dataframe tbody tr th:only-of-type {\n",
       "        vertical-align: middle;\n",
       "    }\n",
       "\n",
       "    .dataframe tbody tr th {\n",
       "        vertical-align: top;\n",
       "    }\n",
       "\n",
       "    .dataframe thead th {\n",
       "        text-align: right;\n",
       "    }\n",
       "</style>\n",
       "<table border=\"1\" class=\"dataframe\">\n",
       "  <thead>\n",
       "    <tr style=\"text-align: right;\">\n",
       "      <th></th>\n",
       "      <th>datetime</th>\n",
       "      <th>comment</th>\n",
       "      <th>satisfaction</th>\n",
       "    </tr>\n",
       "  </thead>\n",
       "  <tbody>\n",
       "    <tr>\n",
       "      <th>0</th>\n",
       "      <td>2019-03-11</td>\n",
       "      <td>역앞에 젊은이들이 모여있다(AA역)</td>\n",
       "      <td>1</td>\n",
       "    </tr>\n",
       "    <tr>\n",
       "      <th>1</th>\n",
       "      <td>2019-02-25</td>\n",
       "      <td>운동할 수 있는 장소가 있는 것이 좋다</td>\n",
       "      <td>5</td>\n",
       "    </tr>\n",
       "    <tr>\n",
       "      <th>2</th>\n",
       "      <td>2019-02-18</td>\n",
       "      <td>육아 지원이 좋다</td>\n",
       "      <td>5</td>\n",
       "    </tr>\n",
       "    <tr>\n",
       "      <th>3</th>\n",
       "      <td>2019-04-09</td>\n",
       "      <td>어린이집에 바로 입원할 수 있다(대기아동 없음)</td>\n",
       "      <td>4</td>\n",
       "    </tr>\n",
       "    <tr>\n",
       "      <th>4</th>\n",
       "      <td>2019-01-06</td>\n",
       "      <td>역앞 상가가 쓸쓸하다</td>\n",
       "      <td>2</td>\n",
       "    </tr>\n",
       "    <tr>\n",
       "      <th>...</th>\n",
       "      <td>...</td>\n",
       "      <td>...</td>\n",
       "      <td>...</td>\n",
       "    </tr>\n",
       "    <tr>\n",
       "      <th>81</th>\n",
       "      <td>2019-01-21</td>\n",
       "      <td>초등학교 운동장이 잔디밭이라서 아주 좋다</td>\n",
       "      <td>5</td>\n",
       "    </tr>\n",
       "    <tr>\n",
       "      <th>82</th>\n",
       "      <td>2019-04-30</td>\n",
       "      <td>홈페이지에서도 설문지를 투고할 수 있게 해 달라</td>\n",
       "      <td>2</td>\n",
       "    </tr>\n",
       "    <tr>\n",
       "      <th>83</th>\n",
       "      <td>2019-01-09</td>\n",
       "      <td>공원에 놀이기구가 너무 적다</td>\n",
       "      <td>1</td>\n",
       "    </tr>\n",
       "    <tr>\n",
       "      <th>84</th>\n",
       "      <td>2019-03-09</td>\n",
       "      <td>공원을 더 늘렸으면 좋겠다</td>\n",
       "      <td>2</td>\n",
       "    </tr>\n",
       "    <tr>\n",
       "      <th>85</th>\n",
       "      <td>2019-04-02</td>\n",
       "      <td>역앞에 주차장이 적다, 불편하다</td>\n",
       "      <td>1</td>\n",
       "    </tr>\n",
       "  </tbody>\n",
       "</table>\n",
       "<p>86 rows × 3 columns</p>\n",
       "</div>"
      ],
      "text/plain": [
       "      datetime                     comment  satisfaction\n",
       "0   2019-03-11         역앞에 젊은이들이 모여있다(AA역)             1\n",
       "1   2019-02-25       운동할 수 있는 장소가 있는 것이 좋다             5\n",
       "2   2019-02-18                   육아 지원이 좋다             5\n",
       "3   2019-04-09  어린이집에 바로 입원할 수 있다(대기아동 없음)             4\n",
       "4   2019-01-06                 역앞 상가가 쓸쓸하다             2\n",
       "..         ...                         ...           ...\n",
       "81  2019-01-21      초등학교 운동장이 잔디밭이라서 아주 좋다             5\n",
       "82  2019-04-30  홈페이지에서도 설문지를 투고할 수 있게 해 달라             2\n",
       "83  2019-01-09             공원에 놀이기구가 너무 적다             1\n",
       "84  2019-03-09              공원을 더 늘렸으면 좋겠다             2\n",
       "85  2019-04-02           역앞에 주차장이 적다, 불편하다             1\n",
       "\n",
       "[86 rows x 3 columns]"
      ]
     },
     "execution_count": 3,
     "metadata": {},
     "output_type": "execute_result"
    }
   ],
   "source": [
    "survey"
   ]
  },
  {
   "cell_type": "code",
   "execution_count": 4,
   "id": "5e6e7199",
   "metadata": {},
   "outputs": [
    {
     "data": {
      "text/plain": [
       "0            역앞에 젊은이들이 모여있다(AA역)\n",
       "1          운동할 수 있는 장소가 있는 것이 좋다\n",
       "2                      육아 지원이 좋다\n",
       "3     어린이집에 바로 입원할 수 있다(대기아동 없음)\n",
       "4                    역앞 상가가 쓸쓸하다\n",
       "                 ...            \n",
       "81        초등학교 운동장이 잔디밭이라서 아주 좋다\n",
       "82    홈페이지에서도 설문지를 투고할 수 있게 해 달라\n",
       "83               공원에 놀이기구가 너무 적다\n",
       "84                공원을 더 늘렸으면 좋겠다\n",
       "85             역앞에 주차장이 적다, 불편하다\n",
       "Name: comment, Length: 86, dtype: object"
      ]
     },
     "execution_count": 4,
     "metadata": {},
     "output_type": "execute_result"
    }
   ],
   "source": [
    "#정규식을 가지고 영어는 제외하고 한글만 모두 남긴다.\n",
    "survey['comment']"
   ]
  },
  {
   "cell_type": "markdown",
   "id": "c6afe002",
   "metadata": {},
   "source": [
    "## str문법을 사용해서 전처리 진행\n",
    "- str은 기본적으로 다양한 문자열 처리를 할 수 있는 함수가 있다.\n",
    "- replace, contain 등 다양"
   ]
  },
  {
   "cell_type": "code",
   "execution_count": 6,
   "id": "33f1b618",
   "metadata": {},
   "outputs": [],
   "source": [
    "survey['comment'] = survey['comment'].str.replace('[A-Za-z]',\"\",regex=True)\n",
    "# comment컬럼의 영문자들을 제거\n",
    "# regex 는 정규식 표현을 사용하겠다는 의미"
   ]
  },
  {
   "cell_type": "code",
   "execution_count": 7,
   "id": "20160831",
   "metadata": {},
   "outputs": [
    {
     "data": {
      "text/plain": [
       "0              역앞에 젊은이들이 모여있다(역)\n",
       "1          운동할 수 있는 장소가 있는 것이 좋다\n",
       "2                      육아 지원이 좋다\n",
       "3     어린이집에 바로 입원할 수 있다(대기아동 없음)\n",
       "4                    역앞 상가가 쓸쓸하다\n",
       "                 ...            \n",
       "81        초등학교 운동장이 잔디밭이라서 아주 좋다\n",
       "82    홈페이지에서도 설문지를 투고할 수 있게 해 달라\n",
       "83               공원에 놀이기구가 너무 적다\n",
       "84                공원을 더 늘렸으면 좋겠다\n",
       "85             역앞에 주차장이 적다, 불편하다\n",
       "Name: comment, Length: 86, dtype: object"
      ]
     },
     "execution_count": 7,
     "metadata": {},
     "output_type": "execute_result"
    }
   ],
   "source": [
    "survey['comment']"
   ]
  },
  {
   "cell_type": "code",
   "execution_count": 8,
   "id": "b918a796",
   "metadata": {},
   "outputs": [],
   "source": [
    "survey['len'] = survey['comment'].str.len() #리뷰에 대한 길이 컬럼 생성"
   ]
  },
  {
   "cell_type": "code",
   "execution_count": 9,
   "id": "37d361a9",
   "metadata": {},
   "outputs": [
    {
     "data": {
      "text/html": [
       "<div>\n",
       "<style scoped>\n",
       "    .dataframe tbody tr th:only-of-type {\n",
       "        vertical-align: middle;\n",
       "    }\n",
       "\n",
       "    .dataframe tbody tr th {\n",
       "        vertical-align: top;\n",
       "    }\n",
       "\n",
       "    .dataframe thead th {\n",
       "        text-align: right;\n",
       "    }\n",
       "</style>\n",
       "<table border=\"1\" class=\"dataframe\">\n",
       "  <thead>\n",
       "    <tr style=\"text-align: right;\">\n",
       "      <th></th>\n",
       "      <th>datetime</th>\n",
       "      <th>comment</th>\n",
       "      <th>satisfaction</th>\n",
       "      <th>len</th>\n",
       "    </tr>\n",
       "  </thead>\n",
       "  <tbody>\n",
       "    <tr>\n",
       "      <th>0</th>\n",
       "      <td>2019-03-11</td>\n",
       "      <td>역앞에 젊은이들이 모여있다(역)</td>\n",
       "      <td>1</td>\n",
       "      <td>17.0</td>\n",
       "    </tr>\n",
       "    <tr>\n",
       "      <th>1</th>\n",
       "      <td>2019-02-25</td>\n",
       "      <td>운동할 수 있는 장소가 있는 것이 좋다</td>\n",
       "      <td>5</td>\n",
       "      <td>21.0</td>\n",
       "    </tr>\n",
       "    <tr>\n",
       "      <th>2</th>\n",
       "      <td>2019-02-18</td>\n",
       "      <td>육아 지원이 좋다</td>\n",
       "      <td>5</td>\n",
       "      <td>9.0</td>\n",
       "    </tr>\n",
       "    <tr>\n",
       "      <th>3</th>\n",
       "      <td>2019-04-09</td>\n",
       "      <td>어린이집에 바로 입원할 수 있다(대기아동 없음)</td>\n",
       "      <td>4</td>\n",
       "      <td>26.0</td>\n",
       "    </tr>\n",
       "    <tr>\n",
       "      <th>4</th>\n",
       "      <td>2019-01-06</td>\n",
       "      <td>역앞 상가가 쓸쓸하다</td>\n",
       "      <td>2</td>\n",
       "      <td>11.0</td>\n",
       "    </tr>\n",
       "    <tr>\n",
       "      <th>...</th>\n",
       "      <td>...</td>\n",
       "      <td>...</td>\n",
       "      <td>...</td>\n",
       "      <td>...</td>\n",
       "    </tr>\n",
       "    <tr>\n",
       "      <th>81</th>\n",
       "      <td>2019-01-21</td>\n",
       "      <td>초등학교 운동장이 잔디밭이라서 아주 좋다</td>\n",
       "      <td>5</td>\n",
       "      <td>22.0</td>\n",
       "    </tr>\n",
       "    <tr>\n",
       "      <th>82</th>\n",
       "      <td>2019-04-30</td>\n",
       "      <td>홈페이지에서도 설문지를 투고할 수 있게 해 달라</td>\n",
       "      <td>2</td>\n",
       "      <td>26.0</td>\n",
       "    </tr>\n",
       "    <tr>\n",
       "      <th>83</th>\n",
       "      <td>2019-01-09</td>\n",
       "      <td>공원에 놀이기구가 너무 적다</td>\n",
       "      <td>1</td>\n",
       "      <td>15.0</td>\n",
       "    </tr>\n",
       "    <tr>\n",
       "      <th>84</th>\n",
       "      <td>2019-03-09</td>\n",
       "      <td>공원을 더 늘렸으면 좋겠다</td>\n",
       "      <td>2</td>\n",
       "      <td>14.0</td>\n",
       "    </tr>\n",
       "    <tr>\n",
       "      <th>85</th>\n",
       "      <td>2019-04-02</td>\n",
       "      <td>역앞에 주차장이 적다, 불편하다</td>\n",
       "      <td>1</td>\n",
       "      <td>17.0</td>\n",
       "    </tr>\n",
       "  </tbody>\n",
       "</table>\n",
       "<p>86 rows × 4 columns</p>\n",
       "</div>"
      ],
      "text/plain": [
       "      datetime                     comment  satisfaction   len\n",
       "0   2019-03-11           역앞에 젊은이들이 모여있다(역)             1  17.0\n",
       "1   2019-02-25       운동할 수 있는 장소가 있는 것이 좋다             5  21.0\n",
       "2   2019-02-18                   육아 지원이 좋다             5   9.0\n",
       "3   2019-04-09  어린이집에 바로 입원할 수 있다(대기아동 없음)             4  26.0\n",
       "4   2019-01-06                 역앞 상가가 쓸쓸하다             2  11.0\n",
       "..         ...                         ...           ...   ...\n",
       "81  2019-01-21      초등학교 운동장이 잔디밭이라서 아주 좋다             5  22.0\n",
       "82  2019-04-30  홈페이지에서도 설문지를 투고할 수 있게 해 달라             2  26.0\n",
       "83  2019-01-09             공원에 놀이기구가 너무 적다             1  15.0\n",
       "84  2019-03-09              공원을 더 늘렸으면 좋겠다             2  14.0\n",
       "85  2019-04-02           역앞에 주차장이 적다, 불편하다             1  17.0\n",
       "\n",
       "[86 rows x 4 columns]"
      ]
     },
     "execution_count": 9,
     "metadata": {},
     "output_type": "execute_result"
    }
   ],
   "source": [
    "survey"
   ]
  },
  {
   "cell_type": "code",
   "execution_count": 10,
   "id": "5c65f92d",
   "metadata": {},
   "outputs": [],
   "source": [
    "import matplotlib.pyplot as plt"
   ]
  },
  {
   "cell_type": "code",
   "execution_count": 12,
   "id": "d564a0e8",
   "metadata": {},
   "outputs": [
    {
     "data": {
      "text/plain": [
       "(array([19., 19., 20., 11.,  7.,  3.,  4.,  0.,  0.,  1.]),\n",
       " array([ 6. , 11.6, 17.2, 22.8, 28.4, 34. , 39.6, 45.2, 50.8, 56.4, 62. ]),\n",
       " <BarContainer object of 10 artists>)"
      ]
     },
     "execution_count": 12,
     "metadata": {},
     "output_type": "execute_result"
    },
    {
     "data": {
      "image/png": "[encoded data removed]",
      "text/plain": [
       "<Figure size 432x288 with 1 Axes>"
      ]
     },
     "metadata": {
      "needs_background": "light"
     },
     "output_type": "display_data"
    }
   ],
   "source": [
    "plt.hist(survey['len']) #리뷰의 길이에 대해 히스토그램으로 확인"
   ]
  },
  {
   "cell_type": "code",
   "execution_count": null,
   "id": "74105ab1",
   "metadata": {},
   "outputs": [],
   "source": []
  }
 ],
 "metadata": {
  "kernelspec": {
   "display_name": "Python 3 (ipykernel)",
   "language": "python",
   "name": "python3"
  },
  "language_info": {
   "codemirror_mode": {
    "name": "ipython",
    "version": 3
   },
   "file_extension": ".py",
   "mimetype": "text/x-python",
   "name": "python",
   "nbconvert_exporter": "python",
   "pygments_lexer": "ipython3",
   "version": "3.9.12"
  }
 },
 "nbformat": 4,
 "nbformat_minor": 5
}
