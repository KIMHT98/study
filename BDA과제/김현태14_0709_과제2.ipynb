{
 "cells": [
  {
   "cell_type": "code",
   "execution_count": 1,
   "id": "d844b223",
   "metadata": {},
   "outputs": [],
   "source": [
    "import re"
   ]
  },
  {
   "cell_type": "markdown",
   "id": "420fef18",
   "metadata": {},
   "source": [
    "## 문자 클래스\n",
    "- \\d -> 숫자 [0-9]\n",
    "- \\D -> 비숫자 [^0-9]\n",
    "- \\w -> 숫자 + 문자 [a-zA-Z0-9]\n",
    "- \\W -> 숫자 + 문자가 아닌 것 [^a-zA-Z0-9]\n",
    "- \\s -> 공백[\\t\\n\\r\\f\\v]\n",
    "- \\S -> 비공백 [^\\t\\n\\r\\f\\v]\n",
    "- \\b -> 단어 경계('\\w'와 '\\W'의 경계)\n",
    "- \\B -> 비단어 경계"
   ]
  },
  {
   "cell_type": "markdown",
   "id": "754ab974",
   "metadata": {},
   "source": [
    "## 집전화번호\n",
    "- 0[2-6][1-5]?(\\)|-)?[2-9]\\d{2,3}-\\d{4}\n",
    "- 지역본호 같은 경우 - 또는 )로 받도록 하고 국번호와 개별번호 사이는 -가 올때 체크"
   ]
  },
  {
   "cell_type": "code",
   "execution_count": 14,
   "id": "d02913e5",
   "metadata": {},
   "outputs": [],
   "source": [
    "# 집전화번호 정규식 컴파일\n",
    "집전화번호 = re.compile(\"0[2-6][1-5]?(\\)|-)?[2-9]\\d{2,3}-\\d{4}\")"
   ]
  },
  {
   "cell_type": "code",
   "execution_count": 15,
   "id": "5003d3a5",
   "metadata": {},
   "outputs": [
    {
     "data": {
      "text/plain": [
       "<re.Match object; span=(0, 12), match='031-511-1335'>"
      ]
     },
     "execution_count": 15,
     "metadata": {},
     "output_type": "execute_result"
    }
   ],
   "source": [
    "#제대로 매치되는지 확인\n",
    "집전화번호.match(\"031-511-1335\")"
   ]
  },
  {
   "cell_type": "code",
   "execution_count": 16,
   "id": "095be084",
   "metadata": {},
   "outputs": [],
   "source": [
    "#틀린 형식의 번호를 했을때 매치되지 않는다.\n",
    "집전화번호.match('010-4943-1481')"
   ]
  },
  {
   "cell_type": "markdown",
   "id": "eb1fca74",
   "metadata": {},
   "source": [
    "## IP주소\n",
    "- ((25[0-5]|2[0-4][0-9]|[01]?[0-9][0-9]?)\\.){3}(25[0-5]|2[0-4][0-9]|[01]?[0-9][0-9]?)\n",
    "- 1 ~ 199, 200 ~ 249, 250 ~ 255 사이의 숫자이면서 뒤에 '.'이 있는 텍스트가 3번 반복되는 것을 체크"
   ]
  },
  {
   "cell_type": "code",
   "execution_count": 17,
   "id": "0c36c712",
   "metadata": {},
   "outputs": [],
   "source": [
    "ip = re.compile('((25[0-5]|2[0-4][0-9]|[01]?[0-9][0-9]?)\\.){3}(25[0-5]|2[0-4][0-9]|[01]?[0-9][0-9]?)')"
   ]
  },
  {
   "cell_type": "code",
   "execution_count": 18,
   "id": "b1efeafc",
   "metadata": {},
   "outputs": [
    {
     "data": {
      "text/plain": [
       "<re.Match object; span=(0, 9), match='127.0.0.2'>"
      ]
     },
     "execution_count": 18,
     "metadata": {},
     "output_type": "execute_result"
    }
   ],
   "source": [
    "#제대로된 형식의 ip주소 매치 확인\n",
    "ip.match('127.0.0.2')"
   ]
  },
  {
   "cell_type": "code",
   "execution_count": 20,
   "id": "9d5f6345",
   "metadata": {},
   "outputs": [],
   "source": [
    "#틀린 형식의 ip주소 매치 확인\n",
    "ip.match('300.255.255.255')"
   ]
  },
  {
   "cell_type": "markdown",
   "id": "f08abdfb",
   "metadata": {},
   "source": [
    "## 우편번호\n",
    "- 구 우편번호 : \\d{3}-\\d{3}\n",
    "- 신 우편번호 : \\d{5}\n",
    "- 구/신 우편번호 : (\\d{3}-\\d{3}|\\d{5})\n",
    "- 구 우편번호 경우 숫자3자리-숫자3자리 이며 신 우편번호 경우 숫자5자리이다."
   ]
  },
  {
   "cell_type": "code",
   "execution_count": 23,
   "id": "9d840bdd",
   "metadata": {},
   "outputs": [],
   "source": [
    "우편번호 =re.compile('(\\d{3}-\\d{3}|\\d{5})')"
   ]
  },
  {
   "cell_type": "code",
   "execution_count": 24,
   "id": "abd4cfab",
   "metadata": {},
   "outputs": [
    {
     "data": {
      "text/plain": [
       "<re.Match object; span=(0, 5), match='12225'>"
      ]
     },
     "execution_count": 24,
     "metadata": {},
     "output_type": "execute_result"
    }
   ],
   "source": [
    "#제대로된 형식의 우편번호 매치 확인\n",
    "우편번호.match('12225')"
   ]
  },
  {
   "cell_type": "code",
   "execution_count": 25,
   "id": "4eea7c25",
   "metadata": {},
   "outputs": [],
   "source": [
    "#틀린 형식의 우편번호 매치\n",
    "우편번호.match('5555-123')"
   ]
  },
  {
   "cell_type": "markdown",
   "id": "b81d263a",
   "metadata": {},
   "source": [
    "## 주민등록번호\n",
    "- \\d{2}([0]\\d|[1][0-2])([0][1-9]|[1-2]\\d|[3][0-1])[-]*[1-4]\\d{6}\n",
    "- 맨앞 정수 2자리는 아무 숫자나 가능\n",
    "- 월은 첫자리가 0인 경우 뒤에 어떤 정수든 가능 / 첫자리가 1인 경우 뒤에 0,1,2만 가능\n",
    "- 일은 첫자리가 0일 경우 뒤에 1-9가능 1,2일 경우 다가능, 3일 경우 0,1만 가능\n",
    "- 뒷자리 첫숫자는 1-4만 가능 / 나머지는 1-9가능"
   ]
  },
  {
   "cell_type": "code",
   "execution_count": 26,
   "id": "eb9bac9d",
   "metadata": {},
   "outputs": [],
   "source": [
    "주민번호 = re.compile('\\d{2}([0]\\d|[1][0-2])([0][1-9]|[1-2]\\d|[3][0-1])[-]*[1-4]\\d{6}')"
   ]
  },
  {
   "cell_type": "code",
   "execution_count": 27,
   "id": "23917545",
   "metadata": {},
   "outputs": [
    {
     "data": {
      "text/plain": [
       "<re.Match object; span=(0, 14), match='981212-1054212'>"
      ]
     },
     "execution_count": 27,
     "metadata": {},
     "output_type": "execute_result"
    }
   ],
   "source": [
    "주민번호.match('981212-1054212')"
   ]
  },
  {
   "cell_type": "code",
   "execution_count": 28,
   "id": "f466076b",
   "metadata": {},
   "outputs": [],
   "source": [
    "주민번호.match('891232-1234567')"
   ]
  },
  {
   "cell_type": "markdown",
   "id": "5a66c244",
   "metadata": {},
   "source": [
    "## URL\n",
    "- https?:\\/\\/(www\\.)?[-a-zA-Z0-9@:%._\\+~#=]{2,256}\\.[a-z]{2,6}\\b([-a-zA-Z0-9@:%_\\+.~#()?&//=]*)\n",
    "- 웹 url은 http, https 반드시 포함\n",
    "- (https?:\\/\\/)?(www\\.)?[-a-zA-Z0-9@:%._\\+~#=]{2,256}\\.[a-z]{2,6}\\b([-a-zA-Z0-9@:%_\\+.~#?&//=]*)\n",
    "- http(s)가 있으나 없으나 상관 없음"
   ]
  },
  {
   "cell_type": "code",
   "execution_count": 31,
   "id": "be6e2a46",
   "metadata": {},
   "outputs": [],
   "source": [
    "url = re.compile(r'http[s]?://(?:[a-zA-Z]|[0-9]|[$-_@.&+]|[!*\\\\(\\\\),]|(?:%[0-9a-fA-F][0-9a-fA-F]))+')"
   ]
  },
  {
   "cell_type": "code",
   "execution_count": 33,
   "id": "25cb8e2f",
   "metadata": {},
   "outputs": [
    {
     "data": {
      "text/plain": [
       "<re.Match object; span=(0, 23), match='https://www.example.com'>"
      ]
     },
     "execution_count": 33,
     "metadata": {},
     "output_type": "execute_result"
    }
   ],
   "source": [
    "url.match('https://www.example.com')"
   ]
  },
  {
   "cell_type": "code",
   "execution_count": 34,
   "id": "99eecffe",
   "metadata": {},
   "outputs": [],
   "source": [
    "url.match('www.naver.com')"
   ]
  },
  {
   "cell_type": "code",
   "execution_count": null,
   "id": "1cac361b",
   "metadata": {},
   "outputs": [],
   "source": []
  }
 ],
 "metadata": {
  "kernelspec": {
   "display_name": "Python 3 (ipykernel)",
   "language": "python",
   "name": "python3"
  },
  "language_info": {
   "codemirror_mode": {
    "name": "ipython",
    "version": 3
   },
   "file_extension": ".py",
   "mimetype": "text/x-python",
   "name": "python",
   "nbconvert_exporter": "python",
   "pygments_lexer": "ipython3",
   "version": "3.9.12"
  }
 },
 "nbformat": 4,
 "nbformat_minor": 5
}
